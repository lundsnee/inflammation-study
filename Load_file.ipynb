{
 "cells": [
  {
   "cell_type": "code",
   "execution_count": 28,
   "metadata": {},
   "outputs": [
    {
     "name": "stdout",
     "output_type": "stream",
     "text": [
      "inflammation-01.csv\n",
      "This is the first line: [ 0.  0.  2.  2.  4.  2.  1.  7.  5.  7.  3.  6. 10.  5.  5. 14. 14.  9.\n",
      " 11. 10.  5.  5.  5. 15.  6.  6. 10. 13.  6.  8.  3.  5.  7.  7.  3.  2.\n",
      "  2.  0.  2.  1.]\n"
     ]
    }
   ],
   "source": [
    "import numpy as np\n",
    "import matplotlib.pyplot as plt\n",
    "import glob\n",
    "files = sorted(glob.glob('inflammation*.csv'))\n",
    "print(files[0])\n",
    "data = np.loadtxt(files[1],delimiter=',')\n",
    "print('This is the first line:', data[1,:])"
   ]
  }
 ],
 "metadata": {
  "kernelspec": {
   "display_name": "Python 3",
   "language": "python",
   "name": "python3"
  },
  "language_info": {
   "codemirror_mode": {
    "name": "ipython",
    "version": 3
   },
   "file_extension": ".py",
   "mimetype": "text/x-python",
   "name": "python",
   "nbconvert_exporter": "python",
   "pygments_lexer": "ipython3",
   "version": "3.6.1"
  }
 },
 "nbformat": 4,
 "nbformat_minor": 2
}
